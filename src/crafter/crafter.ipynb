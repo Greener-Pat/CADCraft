{
 "cells": [
  {
   "cell_type": "markdown",
   "id": "55e253a1",
   "metadata": {},
   "source": [
    "# Crafter"
   ]
  },
  {
   "cell_type": "code",
   "execution_count": 1,
   "id": "d77a3482",
   "metadata": {},
   "outputs": [
    {
     "name": "stderr",
     "output_type": "stream",
     "text": [
      "d:\\Computer_Download\\anaconda\\Lib\\site-packages\\tqdm\\auto.py:21: TqdmWarning: IProgress not found. Please update jupyter and ipywidgets. See https://ipywidgets.readthedocs.io/en/stable/user_install.html\n",
      "  from .autonotebook import tqdm as notebook_tqdm\n"
     ]
    }
   ],
   "source": [
    "import os\n",
    "import csv\n",
    "import json\n",
    "import torch\n",
    "import numpy as np\n",
    "from transformers import CLIPProcessor, CLIPModel\n",
    "from generate_embeddings import generate_embeddings\n",
    "from openai import OpenAI"
   ]
  },
  {
   "cell_type": "code",
   "execution_count": 2,
   "id": "e30c8bf4",
   "metadata": {},
   "outputs": [],
   "source": [
    "DEVICE = \"cuda\" if torch.cuda.is_available() else \"cpu\""
   ]
  },
  {
   "cell_type": "markdown",
   "id": "e6a59fc0",
   "metadata": {},
   "source": [
    "## 1. Help Function"
   ]
  },
  {
   "cell_type": "markdown",
   "id": "1bfe4f03",
   "metadata": {},
   "source": [
    "### 1.1 Model Calling"
   ]
  },
  {
   "cell_type": "code",
   "execution_count": 3,
   "id": "f87727e4",
   "metadata": {},
   "outputs": [],
   "source": [
    "def kimi(question, history=None):\n",
    "\tclient = OpenAI(\n",
    "\t\tapi_key = \"sk-DhVW0coT3r2Kj4hpqX9Uy7p0NRgj6ETBG9WfB1cHQLoDrOgO\",\n",
    "\t\tbase_url = \"https://api.moonshot.cn/v1\",\n",
    "\t)\n",
    "\n",
    "\tmessages = [\n",
    "\t\t\t{\n",
    "\t\t\t\"role\": \"user\",\n",
    "\t\t\t\"content\": question\n",
    "\t\t\t}\n",
    "\t\t]\n",
    "\t\n",
    "\tif history is not None:\n",
    "\t\tmessages = history + messages\n",
    "\n",
    "\tcompletion = client.chat.completions.create(\n",
    "\t\tmodel = \"moonshot-v1-8k\",\n",
    "\t\tmessages = messages,\n",
    "\t\ttemperature = 0.3,\n",
    "\t)\n",
    "\n",
    "\thistory = messages + [\n",
    "\t\t{\n",
    "\t\t\t\"role\": \"assistant\",\n",
    "\t\t\t\"content\": completion.choices[0].message.content\n",
    "\t\t}\n",
    "\t]\n",
    "\n",
    "\treturn completion.choices[0].message.content, history"
   ]
  },
  {
   "cell_type": "code",
   "execution_count": 4,
   "id": "5f4562f5",
   "metadata": {},
   "outputs": [],
   "source": [
    "def deepseek(question, history=None, model=\"r1\"):\n",
    "\tclient = OpenAI(\n",
    "\t\tbase_url=\"https://openrouter.ai/api/v1\",\n",
    "\t\tapi_key=\"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\",\n",
    "\t)\n",
    "\n",
    "\tif model == \"v3\":\n",
    "\t\tmodel_name = \"deepseek/deepseek-v3-base:free\"\n",
    "\telif model == \"r1\":\n",
    "\t\tmodel_name = \"deepseek/deepseek-r1:free\"\n",
    "\telse:\n",
    "\t\treturn \"Invalid model name\"\n",
    "\n",
    "\tmessages = [\n",
    "\t\t\t{\n",
    "\t\t\t\"role\": \"user\",\n",
    "\t\t\t\"content\": question\n",
    "\t\t\t}\n",
    "\t\t]\n",
    "\t\n",
    "\tif history is not None:\n",
    "\t\tmessages = history + messages\n",
    "\n",
    "\tcompletion = client.chat.completions.create(\n",
    "\t\textra_headers={},\n",
    "\t\textra_body={},\n",
    "\t\tmodel=model_name,\n",
    "\t\tmessages=messages\n",
    "\t)\n",
    "\n",
    "\thistory = messages + [\n",
    "\t\t{\n",
    "\t\t\t\"role\": \"assistant\",\n",
    "\t\t\t\"content\": completion.choices[0].message.content\n",
    "\t\t}\n",
    "\t]\n",
    "\n",
    "\treturn completion.choices[0].message.content, history"
   ]
  },
  {
   "cell_type": "markdown",
   "id": "f6689023",
   "metadata": {},
   "source": [
    "### 1.2 JSON Operate"
   ]
  },
  {
   "cell_type": "code",
   "execution_count": 5,
   "id": "cabf40d3",
   "metadata": {},
   "outputs": [],
   "source": [
    "def load_json(filepath):\n",
    "\twith open(filepath, 'r', encoding='utf-8') as file:\n",
    "\t\tcad = json.load(file)\n",
    "\treturn cad"
   ]
  },
  {
   "cell_type": "code",
   "execution_count": 6,
   "id": "a06d70fc",
   "metadata": {},
   "outputs": [],
   "source": [
    "def available_path(dirpath='./outputs'):\n",
    "    idx = 0\n",
    "    while os.path.exists(dirpath + f\"generate{str(idx)}.json\"):\n",
    "        idx += 1\n",
    "    return dirpath + f\"generate{str(idx)}.json\""
   ]
  },
  {
   "cell_type": "code",
   "execution_count": 7,
   "id": "c637ad29",
   "metadata": {},
   "outputs": [],
   "source": [
    "def save_json(json_dic, filepath):\n",
    "    with open(filepath, \"w\") as file:\n",
    "    \tjson.dump(json_dic, file, indent=4)"
   ]
  },
  {
   "cell_type": "code",
   "execution_count": 8,
   "id": "d7359c22",
   "metadata": {},
   "outputs": [],
   "source": [
    "def json_generate(prompt, model_call=deepseek, limit=3):\n",
    "    count = 0\n",
    "    history = []\n",
    "    while count < limit:\n",
    "        gene_s, history = model_call(prompt, history)\n",
    "        if gene_s.count('```') >= 2:\n",
    "            start = gene_s.find('```json\\n')\n",
    "            gene_s = gene_s[start+8:]\n",
    "            end = gene_s.find('```')\n",
    "            gene_json = json.loads(gene_s[:end])\n",
    "            return gene_json, True\n",
    "        else:\n",
    "            count += 1\n",
    "            print(\"Go on...\")\n",
    "            prompt = \"继续生成\"\n",
    "    return gene_s, False"
   ]
  },
  {
   "cell_type": "markdown",
   "id": "9cf3b87f",
   "metadata": {},
   "source": [
    "### 1.3 CLIP"
   ]
  },
  {
   "cell_type": "code",
   "execution_count": 9,
   "id": "6f809538",
   "metadata": {},
   "outputs": [],
   "source": [
    "def load_captions():\n",
    "    captions = {}\n",
    "    pth_paths = {}  # 独立字典\n",
    "    captions_file = 'data.csv'\n",
    "    if not os.path.exists(captions_file):\n",
    "        return captions, pth_paths\n",
    "    with open(captions_file, 'r', encoding='utf-8') as f:\n",
    "        reader = csv.reader(f)\n",
    "        for row in reader:\n",
    "            if len(row) >= 3:\n",
    "                image_path = row[0].strip('\"')\n",
    "                captions[image_path] = row[1]\n",
    "                pth_paths[image_path] = row[2].strip()  # 独立存储\n",
    "    return captions, pth_paths  # 返回两个独立字典"
   ]
  },
  {
   "cell_type": "code",
   "execution_count": 10,
   "id": "94054d37",
   "metadata": {},
   "outputs": [
    {
     "name": "stderr",
     "output_type": "stream",
     "text": [
      "Using a slow image processor as `use_fast` is unset and a slow processor was saved with this model. `use_fast=True` will be the default behavior in v4.52, even if the model was saved with a slow processor. This will result in minor differences in outputs. You'll still be able to use a slow processor with `use_fast=False`.\n"
     ]
    }
   ],
   "source": [
    "model_name = \"laion/CLIP-ViT-L-14-DataComp.XL-s13B-b90K\"\n",
    "clip_model = CLIPModel.from_pretrained(model_name).to(DEVICE)\n",
    "clip_processor = CLIPProcessor.from_pretrained(model_name)\n",
    "captions_dict, pth_paths_dict = load_captions()"
   ]
  },
  {
   "cell_type": "code",
   "execution_count": 11,
   "id": "ae536585",
   "metadata": {},
   "outputs": [],
   "source": [
    "'''\n",
    "这里是原来关键词查top图片的那个\n",
    "参数说明：\n",
    "    keyword是一段文本， \n",
    "    n_images是要输出top多少的，\n",
    "    use_captions是要不要用caption\n",
    "返回值：\n",
    "    top_images:是一个数组里面有n_images个字典，每个字典有：\n",
    "        \"filename\":图片文件名\n",
    "        \"similarity\": 相似度数值\n",
    "        \"path\":图片路径\n",
    "        \"caption\": 描述字段\n",
    "        \"pth_path\": CAD文件路径\n",
    "    error就是error\n",
    "'''\n",
    "def top_images_view(keyword, n_images, use_captions):\n",
    "    error = None\n",
    "    top_images = []\n",
    "    use_captions = False\n",
    "\n",
    "    if not keyword:\n",
    "        error = \"关键词为空\"\n",
    "    elif not n_images:\n",
    "        error = \"无图片数量\"\n",
    "    else:\n",
    "        try:\n",
    "            if n_images < 1 or n_images > 1000:\n",
    "                error = \"数量不在1-1000\"\n",
    "            else:\n",
    "                image_paths, _, similarities = generate_embeddings(\n",
    "                    clip_model, clip_processor, keyword, captions_dict, use_captions\n",
    "                )\n",
    "                results = [\n",
    "                    {\n",
    "                    \"filename\": os.path.basename(path),\n",
    "                    \"similarity\": sim,\n",
    "                    \"path\": path,\n",
    "                    \"caption\": captions_dict.get(path, \"No caption\") if use_captions else \"Captions disabled\",\n",
    "                    \"pth_path\": pth_paths_dict.get(path, \"No pth path\")  # 始终包含\n",
    "                    }\n",
    "                    for path, sim in zip(image_paths, similarities)\n",
    "                ]\n",
    "                top_images = sorted(results, key=lambda x: x[\"similarity\"], reverse=True)[:n_images]\n",
    "        except ValueError:\n",
    "            error = \"非有效的正整数\"\n",
    "        except Exception as e:\n",
    "            error = f\"计算相似度失败: {e}\"\n",
    "\n",
    "    return top_images, error"
   ]
  },
  {
   "cell_type": "markdown",
   "id": "0f47c1c9",
   "metadata": {},
   "source": [
    "## 2. Ways"
   ]
  },
  {
   "cell_type": "markdown",
   "id": "b7ad827f",
   "metadata": {},
   "source": [
    "### 2.1 Direct Generate"
   ]
  },
  {
   "cell_type": "code",
   "execution_count": 12,
   "id": "c5a40e7d",
   "metadata": {},
   "outputs": [],
   "source": [
    "def whole_generate(desire):\n",
    "\tsimple = load_json('./examples/simple.json')\n",
    "\tsimple_s = json.dumps(simple, indent=4)\n",
    "\tprompt = simple_s + f\"请按照如上给出的minimal_json格式生成一个{desire}的CAD程序。\" + \\\n",
    "\t\t\"严格按照示例，要求各个部分为“part_1/2/3”命名，part中包含'coordinate_system'，'extrusion'，以及'sketch'字段。\" + \\\n",
    "\t\t\"'sketch'字段中用face描述面，face中用loop描述构成面的线，loop中只支持arc, line, circle三种。\" + \\\n",
    "\t\t\"这里的点全部用'Start Point'，'Mid Point'，'End Point'字段描述，line需要start和end，arc需要start, mid end，对应的是B-ref曲线。\" + \\\n",
    "\t\t\"circle需要'Center'和'Radius'两个子字段\"\n",
    "\treturn json_generate(prompt)"
   ]
  },
  {
   "cell_type": "markdown",
   "id": "791c2910",
   "metadata": {},
   "source": [
    "### 2.2 Component & Join"
   ]
  },
  {
   "cell_type": "markdown",
   "id": "4b69e073",
   "metadata": {},
   "source": [
    "#### 2.2.1 Divide"
   ]
  },
  {
   "cell_type": "code",
   "execution_count": 13,
   "id": "fd835e3c",
   "metadata": {},
   "outputs": [],
   "source": [
    "def gene_division(desire):\n",
    "    \n",
    "\tpass"
   ]
  },
  {
   "cell_type": "code",
   "execution_count": null,
   "id": "754a7c6a",
   "metadata": {},
   "outputs": [],
   "source": [
    "def get_division(desire):\n",
    "\texample = load_json('./examples/get_div.json')\n",
    "\texample_s = json.dumps(example, indent=4)\n",
    "\tprompt = example_s + f\"请按照上述的json格式将一个'{desire}'的复杂图形拆分成小组件的组合。\" +\\\n",
    "\t\t\"整体结构与各个字段严格按照示例，整体分为name, parts和positional relationship三个部分。\" +\\\n",
    "\t\t\"parts中按照part_1/2/3进行编号，每个子结构中有id, type, description, params, position等参数\" +\\\n",
    "\t\t\"id是唯一标识符，type只有cuboid和cylinder两种，前者params长为3，分别描述长宽高；后者params长为2，对应半径与高度。postion长为3，描述该物体相对于坐标原点的偏移量\" +\\\n",
    "\t\t\"positional relationship为一个列表，每个元素是一个字典，描述的是各个物体的相对位置关系。\" +\\\n",
    "\t\t\"from和to对应的是物体的id，表示这里描述的是to物体相对于from物体的位置。relationship分为三个维度，每个维度通过一个长为2的字符串列表描述\" +\\\n",
    "\t\t\"x轴由left/right/align表示相对位置; y轴由front/back/align表示; z轴由up/down/align表示. 第二个维度用intersect和seperate表示是否相交\" +\\\n",
    "\t\tf\"请按照上述的json格式将一个'{desire}'的复杂图形拆分成小组件的组合。\"\n",
    "\treturn json_generate(prompt)"
   ]
  },
  {
   "cell_type": "markdown",
   "id": "8c6a149d",
   "metadata": {},
   "source": [
    "#### 2.2.2 Get"
   ]
  },
  {
   "cell_type": "code",
   "execution_count": 15,
   "id": "2aba40c5",
   "metadata": {},
   "outputs": [],
   "source": [
    "def component_generate(shape):\n",
    "\texample = load_json('./basics/cuboid.json')\n",
    "\texample_s = json.dumps(example, indent=4)\n",
    "\tprompt = example_s + f\"请按照上述minimal_json的格式生成一个'{shape}'的CAD程序。\" + \\\n",
    "\t\t\"严格按照示例，要求各个部分为“part_1/2/3”命名，part中包含'coordinate_system'，'extrusion'，以及'sketch'字段。\" + \\\n",
    "\t\t\"'sketch'字段中用face描述面，face中用loop描述构成面的线，loop中只支持arc, line, circle三种。\" + \\\n",
    "\t\t\"这里的点全部用'Start Point'，'Mid Point'，'End Point'字段描述，line需要start和end，arc需要start, mid end，对应的是B-ref曲线。\" + \\\n",
    "\t\t\"circle需要'Center'和'Radius'两个子字段\"\n",
    "\treturn json_generate(prompt, deepseek)"
   ]
  },
  {
   "cell_type": "code",
   "execution_count": null,
   "id": "82c6f588",
   "metadata": {},
   "outputs": [],
   "source": [
    "def component_search(shape, num=1, caption=False):\n",
    "\ttop_images, _ = top_images_view(shape, num, caption)\n",
    "\tcads = []\n",
    "\tfor item in top_images:\n",
    "\t\tuid = item['filename'][:8]\n",
    "\t\tfilepath = f\"../../dataset/{uid[:4]}/{uid}/minimal_json/{uid}_merged_vlm.json\"\n",
    "\t\tcad = load_json(filepath)\n",
    "\t\tcads.append(json.loads(cad))\n",
    "\t\t# TODO\n",
    "\t\tbreak\n",
    "\treturn cads[0], True"
   ]
  },
  {
   "cell_type": "code",
   "execution_count": 17,
   "id": "2a6ac3d2",
   "metadata": {},
   "outputs": [],
   "source": [
    "def cuboid_set(cuboid, params):\n",
    "\tl = float(params['length'])\n",
    "\tw = float(params['width'])\n",
    "\th = float(params['height'])\n",
    "\n",
    "\tloop = cuboid['part_1']['sketch']['face_1']['loop_1']\n",
    "\n",
    "\tline_1 = loop['line_1']\n",
    "\tline_1['Start Point'] = [0.0, 0.0]\n",
    "\tline_1['End Point'] = [l, 0.0]\n",
    "\n",
    "\tline_2 = loop['line_2']\n",
    "\tline_2['Start Point'] = [l, 0.0]\n",
    "\tline_2['End Point'] = [l, w]\n",
    "\n",
    "\tline_3 = loop['line_3']\n",
    "\tline_3['Start Point'] = [l, w]\n",
    "\tline_3['End Point'] = [0.0, w]\n",
    "\n",
    "\tline_4 = loop['line_4']\n",
    "\tline_4['Start Point'] = [0.0, w]\n",
    "\tline_4['End Point'] = [0.0, 0.0]\n",
    "\n",
    "\tcuboid['extrusion']['extrude_depth_towards_normal'] = h\n",
    "\n",
    "\tdes = cuboid['description']\n",
    "\tdes['length'] = l\n",
    "\tdes['width'] = w\n",
    "\tdes['height'] = h\n",
    "\tdes['shape'] = f\"A rectangular prism with length {l}, width {w} and height {h}\"\n",
    "\n",
    "def cylinder_set(cylinder, params):\n",
    "\tradius = float(params['radius'])\n",
    "\th = float(params['height'])\n",
    "\n",
    "\tcircle = cylinder['part_1']['sketch']['face_1']['circle_1']\n",
    "\tcircle['Center'] = [radius, radius]\n",
    "\tcircle['Radius'] = radius\n",
    "\n",
    "\tcylinder['extrusion']['extrude_depth_towards_normal'] = h\n",
    "\n",
    "\tdes = cylinder['description']\n",
    "\tdes['length'] = radius\n",
    "\tdes['width'] = radius\n",
    "\tdes['height'] = h\n",
    "\tdes['shape'] = f'A circular cylinder with diameter {radius} and height {h}'\n",
    "\n",
    "def component_get(type, params):\n",
    "\tcad_s = load_json(f\"./basics/{type}.json\")\n",
    "\tcad_json = json.loads(cad_s)\n",
    "\tif type == \"cuboid\":\n",
    "\t\tcuboid_set(cad_json, params)\t\t\n",
    "\telif type == \"cylinder\":\n",
    "\t\tcylinder_set(cad_json, params)\n",
    "\treturn [cad_json], True"
   ]
  },
  {
   "cell_type": "markdown",
   "id": "fe1ecb30",
   "metadata": {},
   "source": [
    "### 2.2.3 Join"
   ]
  },
  {
   "cell_type": "code",
   "execution_count": null,
   "id": "20428b24",
   "metadata": {},
   "outputs": [],
   "source": [
    "def params_join(parts_dic):\n",
    "    parts = parts_dic['parts']\n",
    "    for part_id in parts:\n",
    "        part = parts[part_id]\n",
    "        \n",
    "    pass"
   ]
  },
  {
   "cell_type": "markdown",
   "id": "8e545d4e",
   "metadata": {},
   "source": [
    "## 3. Interact"
   ]
  },
  {
   "cell_type": "code",
   "execution_count": 19,
   "id": "e96b1411",
   "metadata": {},
   "outputs": [
    {
     "name": "stdout",
     "output_type": "stream",
     "text": [
      "Go on...\n",
      "Go on...\n"
     ]
    }
   ],
   "source": [
    "gene_json, res = get_division(\"a boy with round head and cubic body, arms and legs\")"
   ]
  },
  {
   "cell_type": "code",
   "execution_count": 21,
   "id": "f582dbf0",
   "metadata": {},
   "outputs": [
    {
     "name": "stdout",
     "output_type": "stream",
     "text": [
      "{\n",
      "    \"name\": \"a boy with round head and cubic body, arms and legs\",\n",
      "    \"parts\": {\n",
      "        \"part_1\": {\n",
      "            \"id\": \"1\",\n",
      "            \"type\": \"cylinder\",\n",
      "            \"description\": \"head\",\n",
      "            \"params\": [\n",
      "                0.15,\n",
      "                0.2\n",
      "            ],\n",
      "            \"position\": [\n",
      "                0.0,\n",
      "                0.0,\n",
      "                0.35\n",
      "            ]\n",
      "        },\n",
      "        \"part_2\": {\n",
      "            \"id\": \"2\",\n",
      "            \"type\": \"cuboid\",\n",
      "            \"description\": \"body\",\n",
      "            \"params\": [\n",
      "                0.3,\n",
      "                0.2,\n",
      "                0.5\n",
      "            ],\n",
      "            \"position\": [\n",
      "                0.0,\n",
      "                0.0,\n",
      "                0.0\n",
      "            ]\n",
      "        },\n",
      "        \"part_3\": {\n",
      "            \"id\": \"3\",\n",
      "            \"type\": \"cuboid\",\n",
      "            \"description\": \"left arm\",\n",
      "            \"params\": [\n",
      "                0.1,\n",
      "                0.1,\n",
      "                0.4\n",
      "            ],\n",
      "            \"position\": [\n",
      "                -0.2,\n",
      "                0.0,\n",
      "                0.0\n",
      "            ]\n",
      "        },\n",
      "        \"part_4\": {\n",
      "            \"id\": \"4\",\n",
      "            \"type\": \"cuboid\",\n",
      "            \"description\": \"right arm\",\n",
      "            \"params\": [\n",
      "                0.1,\n",
      "                0.1,\n",
      "                0.4\n",
      "            ],\n",
      "            \"position\": [\n",
      "                0.2,\n",
      "                0.0,\n",
      "                0.0\n",
      "            ]\n",
      "        },\n",
      "        \"part_5\": {\n",
      "            \"id\": \"5\",\n",
      "            \"type\": \"cuboid\",\n",
      "            \"description\": \"left leg\",\n",
      "            \"params\": [\n",
      "                0.1,\n",
      "                0.1,\n",
      "                0.4\n",
      "            ],\n",
      "            \"position\": [\n",
      "                0.0,\n",
      "                -0.1,\n",
      "                -0.45\n",
      "            ]\n",
      "        },\n",
      "        \"part_6\": {\n",
      "            \"id\": \"6\",\n",
      "            \"type\": \"cuboid\",\n",
      "            \"description\": \"right leg\",\n",
      "            \"params\": [\n",
      "                0.1,\n",
      "                0.1,\n",
      "                0.4\n",
      "            ],\n",
      "            \"position\": [\n",
      "                0.0,\n",
      "                0.1,\n",
      "                -0.45\n",
      "            ]\n",
      "        }\n",
      "    },\n",
      "    \"positional relationship\": [\n",
      "        {\n",
      "            \"from\": 2,\n",
      "            \"to\": 1,\n",
      "            \"relationship\": {\n",
      "                \"x\": [\n",
      "                    \"align\",\n",
      "                    \"intersect\"\n",
      "                ],\n",
      "                \"y\": [\n",
      "                    \"align\",\n",
      "                    \"intersect\"\n",
      "                ],\n",
      "                \"z\": [\n",
      "                    \"up\",\n",
      "                    \"intersect\"\n",
      "                ]\n",
      "            }\n",
      "        },\n",
      "        {\n",
      "            \"from\": 2,\n",
      "            \"to\": 3,\n",
      "            \"relationship\": {\n",
      "                \"x\": [\n",
      "                    \"left\",\n",
      "                    \"seperate\"\n",
      "                ],\n",
      "                \"y\": [\n",
      "                    \"align\",\n",
      "                    \"intersect\"\n",
      "                ],\n",
      "                \"z\": [\n",
      "                    \"align\",\n",
      "                    \"intersect\"\n",
      "                ]\n",
      "            }\n",
      "        },\n",
      "        {\n",
      "            \"from\": 2,\n",
      "            \"to\": 4,\n",
      "            \"relationship\": {\n",
      "                \"x\": [\n",
      "                    \"right\",\n",
      "                    \"seperate\"\n",
      "                ],\n",
      "                \"y\": [\n",
      "                    \"align\",\n",
      "                    \"intersect\"\n",
      "                ],\n",
      "                \"z\": [\n",
      "                    \"align\",\n",
      "                    \"intersect\"\n",
      "                ]\n",
      "            }\n",
      "        },\n",
      "        {\n",
      "            \"from\": 2,\n",
      "            \"to\": 5,\n",
      "            \"relationship\": {\n",
      "                \"x\": [\n",
      "                    \"align\",\n",
      "                    \"intersect\"\n",
      "                ],\n",
      "                \"y\": [\n",
      "                    \"front\",\n",
      "                    \"seperate\"\n",
      "                ],\n",
      "                \"z\": [\n",
      "                    \"down\",\n",
      "                    \"seperate\"\n",
      "                ]\n",
      "            }\n",
      "        },\n",
      "        {\n",
      "            \"from\": 2,\n",
      "            \"to\": 6,\n",
      "            \"relationship\": {\n",
      "                \"x\": [\n",
      "                    \"align\",\n",
      "                    \"intersect\"\n",
      "                ],\n",
      "                \"y\": [\n",
      "                    \"back\",\n",
      "                    \"seperate\"\n",
      "                ],\n",
      "                \"z\": [\n",
      "                    \"down\",\n",
      "                    \"seperate\"\n",
      "                ]\n",
      "            }\n",
      "        }\n",
      "    ]\n",
      "}\n"
     ]
    }
   ],
   "source": [
    "print(json.dumps(gene_json, indent=4))"
   ]
  }
 ],
 "metadata": {
  "kernelspec": {
   "display_name": "base",
   "language": "python",
   "name": "python3"
  },
  "language_info": {
   "codemirror_mode": {
    "name": "ipython",
    "version": 3
   },
   "file_extension": ".py",
   "mimetype": "text/x-python",
   "name": "python",
   "nbconvert_exporter": "python",
   "pygments_lexer": "ipython3",
   "version": "3.11.5"
  }
 },
 "nbformat": 4,
 "nbformat_minor": 5
}
