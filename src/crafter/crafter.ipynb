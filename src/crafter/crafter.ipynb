{
 "cells": [
  {
   "cell_type": "markdown",
   "id": "55e253a1",
   "metadata": {},
   "source": [
    "# Crafter"
   ]
  },
  {
   "cell_type": "code",
   "execution_count": 67,
   "id": "d77a3482",
   "metadata": {},
   "outputs": [],
   "source": [
    "import os\n",
    "import csv\n",
    "import json\n",
    "import torch\n",
    "import numpy as np\n",
    "from transformers import CLIPProcessor, CLIPModel\n",
    "from generate_embeddings import generate_embeddings\n",
    "from openai import OpenAI"
   ]
  },
  {
   "cell_type": "code",
   "execution_count": 68,
   "id": "e30c8bf4",
   "metadata": {},
   "outputs": [],
   "source": [
    "DEVICE = \"cuda\" if torch.cuda.is_available() else \"cpu\""
   ]
  },
  {
   "cell_type": "markdown",
   "id": "e6a59fc0",
   "metadata": {},
   "source": [
    "## 1. Help Function"
   ]
  },
  {
   "cell_type": "markdown",
   "id": "1bfe4f03",
   "metadata": {},
   "source": [
    "### 1.1 Model Calling"
   ]
  },
  {
   "cell_type": "code",
   "execution_count": 69,
   "id": "f87727e4",
   "metadata": {},
   "outputs": [],
   "source": [
    "def kimi(question, history=None):\n",
    "\tclient = OpenAI(\n",
    "\t\tapi_key = \"sk-DhVW0coT3r2Kj4hpqX9Uy7p0NRgj6ETBG9WfB1cHQLoDrOgO\",\n",
    "\t\tbase_url = \"https://api.moonshot.cn/v1\",\n",
    "\t)\n",
    "\n",
    "\tmessages = [\n",
    "\t\t\t{\n",
    "\t\t\t\"role\": \"user\",\n",
    "\t\t\t\"content\": question\n",
    "\t\t\t}\n",
    "\t\t]\n",
    "\t\n",
    "\tif history is not None:\n",
    "\t\tmessages = history + messages\n",
    "\n",
    "\tcompletion = client.chat.completions.create(\n",
    "\t\tmodel = \"moonshot-v1-8k\",\n",
    "\t\tmessages = messages,\n",
    "\t\ttemperature = 0.3,\n",
    "\t)\n",
    "\n",
    "\thistory = messages + [\n",
    "\t\t{\n",
    "\t\t\t\"role\": \"assistant\",\n",
    "\t\t\t\"content\": completion.choices[0].message.content\n",
    "\t\t}\n",
    "\t]\n",
    "\n",
    "\treturn completion.choices[0].message.content, history"
   ]
  },
  {
   "cell_type": "code",
   "execution_count": 70,
   "id": "5f4562f5",
   "metadata": {},
   "outputs": [],
   "source": [
    "def deepseek(question, history=None, model=\"r1\"):\n",
    "\tclient = OpenAI(\n",
    "\t\tbase_url=\"https://openrouter.ai/api/v1\",\n",
    "\t\tapi_key=\"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\",\n",
    "\t)\n",
    "\n",
    "\tif model == \"v3\":\n",
    "\t\tmodel_name = \"deepseek/deepseek-v3-base:free\"\n",
    "\telif model == \"r1\":\n",
    "\t\tmodel_name = \"deepseek/deepseek-r1:free\"\n",
    "\telse:\n",
    "\t\treturn \"Invalid model name\"\n",
    "\n",
    "\tmessages = [\n",
    "\t\t\t{\n",
    "\t\t\t\"role\": \"user\",\n",
    "\t\t\t\"content\": question\n",
    "\t\t\t}\n",
    "\t\t]\n",
    "\t\n",
    "\tif history is not None:\n",
    "\t\tmessages = history + messages\n",
    "\n",
    "\tcompletion = client.chat.completions.create(\n",
    "\t\textra_headers={},\n",
    "\t\textra_body={},\n",
    "\t\tmodel=model_name,\n",
    "\t\tmessages=messages\n",
    "\t)\n",
    "\n",
    "\thistory = messages + [\n",
    "\t\t{\n",
    "\t\t\t\"role\": \"assistant\",\n",
    "\t\t\t\"content\": completion.choices[0].message.content\n",
    "\t\t}\n",
    "\t]\n",
    "\n",
    "\treturn completion.choices[0].message.content, history"
   ]
  },
  {
   "cell_type": "markdown",
   "id": "f6689023",
   "metadata": {},
   "source": [
    "### 1.2 JSON Operate"
   ]
  },
  {
   "cell_type": "code",
   "execution_count": 71,
   "id": "cabf40d3",
   "metadata": {},
   "outputs": [],
   "source": [
    "def load_json(filepath, dump=False):\n",
    "\twith open(filepath, 'r', encoding='utf-8') as file:\n",
    "\t\tcad = json.load(file)\n",
    "\tif dump:\n",
    "\t\tcad = json.dumps(cad, indent=4)\n",
    "\treturn cad"
   ]
  },
  {
   "cell_type": "code",
   "execution_count": null,
   "id": "a06d70fc",
   "metadata": {},
   "outputs": [],
   "source": [
    "def available_path(dirpath='./outputs/'):\n",
    "    idx = 0\n",
    "    while os.path.exists(dirpath + f\"generate{str(idx)}.json\"):\n",
    "        idx += 1\n",
    "    return dirpath + f\"generate{str(idx)}.json\""
   ]
  },
  {
   "cell_type": "code",
   "execution_count": 99,
   "id": "c637ad29",
   "metadata": {},
   "outputs": [],
   "source": [
    "def save_json(json_dic, filepath):\n",
    "    with open(filepath, \"w\", encoding='utf-8') as file:\n",
    "    \tjson.dump(json_dic, file, indent=4)"
   ]
  },
  {
   "cell_type": "code",
   "execution_count": 95,
   "id": "d7359c22",
   "metadata": {},
   "outputs": [],
   "source": [
    "def json_generate(prompt, model_call=kimi, limit=3, save=True):\n",
    "\tcount = 0\n",
    "\thistory = []\n",
    "\twhile count < limit:\n",
    "\t\tgene_s, history = model_call(prompt, history)\n",
    "\t\tif gene_s.count('```') >= 2:\n",
    "\t\t\tstart = gene_s.find('```json\\n')\n",
    "\t\t\tgene_s = gene_s[start+8:]\n",
    "\t\t\tend = gene_s.find('```')\n",
    "\t\t\tgene_json = json.loads(gene_s[:end])\n",
    "\t\t\tprint(\"Succeed\")\n",
    "\t\t\tif save:\n",
    "\t\t\t\tsavepath = available_path('./inter_result/')\n",
    "\t\t\t\tsave_json(gene_json, savepath)\n",
    "\t\t\t\tprint(f\"save to {savepath}\")\n",
    "\t\t\treturn gene_json, True\n",
    "\t\telse:\n",
    "\t\t\tcount += 1\n",
    "\t\t\tprint(\"Go on...\")\n",
    "\t\t\tprint(gene_s)\n",
    "\t\t\tprompt = \"继续生成\"\n",
    "\tprint(\"Fail\")\n",
    "\treturn gene_s, False"
   ]
  },
  {
   "cell_type": "markdown",
   "id": "9cf3b87f",
   "metadata": {},
   "source": [
    "### 1.3 CLIP"
   ]
  },
  {
   "cell_type": "code",
   "execution_count": 75,
   "id": "6f809538",
   "metadata": {},
   "outputs": [],
   "source": [
    "def load_captions():\n",
    "    captions = {}\n",
    "    pth_paths = {}  # 独立字典\n",
    "    captions_file = 'data.csv'\n",
    "    if not os.path.exists(captions_file):\n",
    "        return captions, pth_paths\n",
    "    with open(captions_file, 'r', encoding='utf-8') as f:\n",
    "        reader = csv.reader(f)\n",
    "        for row in reader:\n",
    "            if len(row) >= 3:\n",
    "                image_path = row[0].strip('\"')\n",
    "                captions[image_path] = row[1]\n",
    "                pth_paths[image_path] = row[2].strip()  # 独立存储\n",
    "    return captions, pth_paths  # 返回两个独立字典"
   ]
  },
  {
   "cell_type": "code",
   "execution_count": 76,
   "id": "94054d37",
   "metadata": {},
   "outputs": [],
   "source": [
    "model_name = \"laion/CLIP-ViT-L-14-DataComp.XL-s13B-b90K\"\n",
    "clip_model = CLIPModel.from_pretrained(model_name).to(DEVICE)\n",
    "clip_processor = CLIPProcessor.from_pretrained(model_name)\n",
    "captions_dict, pth_paths_dict = load_captions()"
   ]
  },
  {
   "cell_type": "code",
   "execution_count": 77,
   "id": "ae536585",
   "metadata": {},
   "outputs": [],
   "source": [
    "'''\n",
    "这里是原来关键词查top图片的那个\n",
    "参数说明：\n",
    "    keyword是一段文本， \n",
    "    n_images是要输出top多少的，\n",
    "    use_captions是要不要用caption\n",
    "返回值：\n",
    "    top_images:是一个数组里面有n_images个字典，每个字典有：\n",
    "        \"filename\":图片文件名\n",
    "        \"similarity\": 相似度数值\n",
    "        \"path\":图片路径\n",
    "        \"caption\": 描述字段\n",
    "        \"pth_path\": CAD文件路径\n",
    "    error就是error\n",
    "'''\n",
    "def top_images_view(keyword, n_images, use_captions):\n",
    "    error = None\n",
    "    top_images = []\n",
    "    use_captions = False\n",
    "\n",
    "    if not keyword:\n",
    "        error = \"关键词为空\"\n",
    "    elif not n_images:\n",
    "        error = \"无图片数量\"\n",
    "    else:\n",
    "        try:\n",
    "            if n_images < 1 or n_images > 1000:\n",
    "                error = \"数量不在1-1000\"\n",
    "            else:\n",
    "                image_paths, _, similarities = generate_embeddings(\n",
    "                    clip_model, clip_processor, keyword, captions_dict, use_captions\n",
    "                )\n",
    "                results = [\n",
    "                    {\n",
    "                    \"filename\": os.path.basename(path),\n",
    "                    \"similarity\": sim,\n",
    "                    \"path\": path,\n",
    "                    \"caption\": captions_dict.get(path, \"No caption\") if use_captions else \"Captions disabled\",\n",
    "                    \"pth_path\": pth_paths_dict.get(path, \"No pth path\")  # 始终包含\n",
    "                    }\n",
    "                    for path, sim in zip(image_paths, similarities)\n",
    "                ]\n",
    "                top_images = sorted(results, key=lambda x: x[\"similarity\"], reverse=True)[:n_images]\n",
    "        except ValueError:\n",
    "            error = \"非有效的正整数\"\n",
    "        except Exception as e:\n",
    "            error = f\"计算相似度失败: {e}\"\n",
    "\n",
    "    return top_images, error"
   ]
  },
  {
   "cell_type": "markdown",
   "id": "0f47c1c9",
   "metadata": {},
   "source": [
    "## 2. Ways"
   ]
  },
  {
   "cell_type": "markdown",
   "id": "b7ad827f",
   "metadata": {},
   "source": [
    "### 2.1 Direct Generate"
   ]
  },
  {
   "cell_type": "code",
   "execution_count": 78,
   "id": "c5a40e7d",
   "metadata": {},
   "outputs": [],
   "source": [
    "def whole_generate(desire):\n",
    "\texample = load_json('./examples/simple.json', dump=True)\n",
    "\tprompt = example + f\"请按照如上给出的minimal_json格式生成一个{desire}的CAD程序。\" + \\\n",
    "\t\t\"严格按照示例，主体包含'coordinate_system'，'extrusion'，以及'sketch'字段。\" + \\\n",
    "\t\t\"'sketch'字段中用face描述面，face中用loop描述构成面的线，loop中只支持arc, line, circle三种。\" + \\\n",
    "\t\t\"这里的点全部用'Start Point'，'Mid Point'，'End Point'字段描述，line需要start和end，arc需要start, mid end，对应的是B-ref曲线。\" + \\\n",
    "\t\t\"circle需要'Center'和'Radius'两个子字段\"\n",
    "\treturn json_generate(prompt)"
   ]
  },
  {
   "cell_type": "markdown",
   "id": "791c2910",
   "metadata": {},
   "source": [
    "### 2.2 Component & Join"
   ]
  },
  {
   "cell_type": "markdown",
   "id": "4b69e073",
   "metadata": {},
   "source": [
    "#### 2.2.1 Divide"
   ]
  },
  {
   "cell_type": "code",
   "execution_count": 79,
   "id": "fd835e3c",
   "metadata": {},
   "outputs": [],
   "source": [
    "def gene_division(desire):\n",
    "\texample = load_json('./examples/gene_params.json', dump=True)\n",
    "\tprompt = example + f\"请按照上述的json格式将一个'{desire}'的复杂图形拆分成小组件的组合。\" +\\\n",
    "\t\t\"整体结构与各个字段严格按照示例，整体分为name, parts和positional relationship三个部分。\" +\\\n",
    "\t\t\"parts中按照part_1/2/3进行编号，每个子结构中有id, description, position等参数\" +\\\n",
    "\t\t\"id是唯一标识符，postion长为3，描述该物体相对于坐标原点的偏移量\" +\\\n",
    "\t\t\"positional relationship为一个列表，每个元素是一个字典，描述的是各个物体的相对位置关系。\" +\\\n",
    "\t\t\"from和to对应的是物体的id，表示这里描述的是to物体相对于from物体的位置。relationship分为三个维度，每个维度通过一个长为2的字符串列表描述\" +\\\n",
    "\t\t\"x轴由left/right/align表示相对位置; y轴由front/back/center/none表示; z轴由up/down/align表示. 第二个维度用intersect和seperate表示是否相交\" +\\\n",
    "\t\tf\"请按照上述的json格式将一个'{desire}'的复杂图形拆分成小组件的组合。\"\n",
    "\treturn json_generate(prompt)"
   ]
  },
  {
   "cell_type": "code",
   "execution_count": 80,
   "id": "754a7c6a",
   "metadata": {},
   "outputs": [],
   "source": [
    "def prefabs_division(desire):\n",
    "\texample = load_json('./examples/prefab_params.json', dump=True)\n",
    "\tprompt = example + f\"请按照上述的json格式将一个'{desire}'的复杂图形拆分成小组件的组合。\" +\\\n",
    "\t\t\"整体结构与各个字段严格按照示例，整体分为name, parts和positional relationship三个部分。\" +\\\n",
    "\t\t\"parts中按照part_1/2/3进行编号，每个子结构中有id, type, description, params, position等参数\" +\\\n",
    "\t\t\"id是唯一标识符，type只有cuboid和cylinder两种，前者params长为3，分别描述长宽高；后者params长为2，对应半径与高度。postion长为3，描述该物体相对于坐标原点的偏移量\" +\\\n",
    "\t\t\"positional relationship为一个列表，每个元素是一个字典，描述的是各个物体的相对位置关系。\" +\\\n",
    "\t\t\"from和to对应的是物体的id，表示这里描述的是to物体相对于from物体的位置。relationship分为三个维度，每个维度通过一个长为2的字符串列表描述\" +\\\n",
    "\t\t\"x轴由left/right/center/none表示相对位置; y轴由front/back/center/none表示; z轴由up/down/center/none表示. 第二个维度用intersect和seperate表示是否相交\" +\\\n",
    "\t\tf\"请按照上述的json格式将一个'{desire}'的复杂图形拆分成小组件的组合。\"\n",
    "\treturn json_generate(prompt)"
   ]
  },
  {
   "cell_type": "markdown",
   "id": "8c6a149d",
   "metadata": {},
   "source": [
    "#### 2.2.2 Get Components"
   ]
  },
  {
   "cell_type": "code",
   "execution_count": 81,
   "id": "2aba40c5",
   "metadata": {},
   "outputs": [],
   "source": [
    "def component_generate(shape):\n",
    "\texample = load_json('./basics/cuboid.json', dump=True)\n",
    "\tprompt = example + f\"请按照上述minimal_json的格式生成一个'{shape}'的CAD程序。\" + \\\n",
    "\t\t\"严格按照示例，包含'coordinate_system'，'extrusion'，以及'sketch'字段。\" + \\\n",
    "\t\t\"'sketch'字段中用face描述面，face中用loop描述构成面的线，loop中只支持arc, line, circle三种。\" + \\\n",
    "\t\t\"这里的点全部用'Start Point'，'Mid Point'，'End Point'字段描述，line需要start和end，arc需要start, mid end，对应的是B-ref曲线。\" + \\\n",
    "\t\t\"circle需要'Center'和'Radius'两个子字段\" +\\\n",
    "\t\tf\"请按照上述minimal_json的格式生成一个'{shape}'的CAD程序。\"\n",
    "\treturn json_generate(prompt)"
   ]
  },
  {
   "cell_type": "code",
   "execution_count": 82,
   "id": "82c6f588",
   "metadata": {},
   "outputs": [],
   "source": [
    "def component_clip(shape, num=1, caption=False):\n",
    "\ttop_images, _ = top_images_view(shape, num, caption)\n",
    "\tcads = []\n",
    "\tfor item in top_images:\n",
    "\t\tuid = item['filename'][:8]\n",
    "\t\tfilepath = f\"../../dataset/{uid[:4]}/{uid}/minimal_json/{uid}_merged_vlm.json\"\n",
    "\t\tcad = load_json(filepath)\n",
    "\t\tcads.append(cad)\n",
    "\t\t# TODO\n",
    "\t\tbreak\n",
    "\treturn cads[0], True"
   ]
  },
  {
   "cell_type": "code",
   "execution_count": 83,
   "id": "2a6ac3d2",
   "metadata": {},
   "outputs": [],
   "source": [
    "def cuboid_set(cuboid, params):\n",
    "\tl = float(params[0])\n",
    "\tw = float(params[1])\n",
    "\th = float(params[2])\n",
    "\n",
    "\tloop = cuboid['sketch']['face_1']['loop_1']\n",
    "\n",
    "\tline_1 = loop['line_1']\n",
    "\tline_1['Start Point'] = [0.0, 0.0]\n",
    "\tline_1['End Point'] = [l, 0.0]\n",
    "\n",
    "\tline_2 = loop['line_2']\n",
    "\tline_2['Start Point'] = [l, 0.0]\n",
    "\tline_2['End Point'] = [l, w]\n",
    "\n",
    "\tline_3 = loop['line_3']\n",
    "\tline_3['Start Point'] = [l, w]\n",
    "\tline_3['End Point'] = [0.0, w]\n",
    "\n",
    "\tline_4 = loop['line_4']\n",
    "\tline_4['Start Point'] = [0.0, w]\n",
    "\tline_4['End Point'] = [0.0, 0.0]\n",
    "\n",
    "\tcuboid['extrusion']['extrude_depth_towards_normal'] = h\n",
    "\n",
    "\tdes = cuboid['description']\n",
    "\tdes['length'] = l\n",
    "\tdes['width'] = w\n",
    "\tdes['height'] = h\n",
    "\tdes['shape'] = f\"A rectangular prism with length {l}, width {w} and height {h}\""
   ]
  },
  {
   "cell_type": "code",
   "execution_count": 84,
   "id": "2ec6597a",
   "metadata": {},
   "outputs": [],
   "source": [
    "def cylinder_set(cylinder, params):\n",
    "\tradius = float(params[0])\n",
    "\th = float(params[1])\n",
    "\n",
    "\tcircle = cylinder['sketch']['face_1']['loop_1']['circle_1']\n",
    "\tcircle['Center'] = [radius, radius]\n",
    "\tcircle['Radius'] = radius\n",
    "\n",
    "\tcylinder['extrusion']['extrude_depth_towards_normal'] = h\n",
    "\n",
    "\tdes = cylinder['description']\n",
    "\tdes['length'] = radius\n",
    "\tdes['width'] = radius\n",
    "\tdes['height'] = h\n",
    "\tdes['shape'] = f'A circular cylinder with diameter {radius} and height {h}'"
   ]
  },
  {
   "cell_type": "code",
   "execution_count": 85,
   "id": "0f6b8a10",
   "metadata": {},
   "outputs": [],
   "source": [
    "def component_prefab(type, params):\n",
    "\tcad_json = load_json(f\"./basics/{type}.json\")\n",
    "\tif type == \"cuboid\":\n",
    "\t\tcuboid_set(cad_json, params)\t\t\n",
    "\telif type == \"cylinder\":\n",
    "\t\tcylinder_set(cad_json, params)\n",
    "\treturn cad_json"
   ]
  },
  {
   "cell_type": "markdown",
   "id": "0ce04a4a",
   "metadata": {},
   "source": [
    "#### 2.2.3 Merge"
   ]
  },
  {
   "cell_type": "code",
   "execution_count": 93,
   "id": "b8e44257",
   "metadata": {},
   "outputs": [],
   "source": [
    "def get_shape(obj_dic):\n",
    "    length = obj_dic['description']['length']\n",
    "    width = obj_dic['description']['width']\n",
    "    height = obj_dic['description']['height']\n",
    "    return [length, width, height]\n",
    "\n",
    "def axis_compute(base_val, ex_val, base_size, ex_size, relative):\n",
    "\tif relative[0] in ['left', 'front', 'up']:\n",
    "\t\tres = base_val\n",
    "\t\tif relative[1] == \"intersect\":\n",
    "\t\t\tres -= ex_size / 2\n",
    "\t\telse:\n",
    "\t\t\tres -= ex_size\n",
    "\telif relative[0] in ['right', 'back', 'down']:\n",
    "\t\tres = base_val + base_size\n",
    "\t\tif relative[1] == \"intersect\":\n",
    "\t\t\tres -= ex_size / 2\n",
    "\telif relative[0] == \"center\":\n",
    "\t\tres = base_val + base_size / 2 - ex_size / 2\n",
    "\telse:\n",
    "\t\tres = ex_val\n",
    "\treturn res\n",
    "\n",
    "def relative_compute(base_pos, ex_pos, base_shape, ex_shape, relative):\n",
    "\tex_pos[0] = axis_compute(base_pos[0], ex_pos[0], base_shape[0], ex_shape[0], relative['x'])\n",
    "\tex_pos[1] = axis_compute(base_pos[1], ex_pos[1], base_shape[1], ex_shape[1], relative['y'])\n",
    "\tex_pos[2] = axis_compute(base_pos[2], ex_pos[2], base_shape[2], ex_shape[2], relative['z'])\n",
    "\n",
    "def relative_set(final_dic, rela_lis):\n",
    "\tparts = final_dic['parts']\n",
    "\tfor rela in rela_lis:\n",
    "\t\tbase = f\"part_{rela['from']}\"\n",
    "\t\textend_ids = rela['to']\n",
    "\t\tfor extend_id in extend_ids:\n",
    "\t\t\textend = f\"part_{extend_id}\"\n",
    "\t\t\tif base not in parts or extend not in parts:\n",
    "\t\t\t\tcontinue\n",
    "\t\t\tbase_dic = parts[base]\n",
    "\t\t\textend_dic = parts[extend]\n",
    "\t\t\tbase_pos = base_dic['coordinate_system']['Translation Vector']\n",
    "\t\t\tex_pos = extend_dic['coordinate_system']['Translation Vector']\n",
    "\t\t\tbase_shape = get_shape(base_dic)\n",
    "\t\t\textend_shape = get_shape(extend_dic)\n",
    "\t\t\trelative_compute(base_pos, ex_pos, base_shape, extend_shape, rela['relationship'])"
   ]
  },
  {
   "cell_type": "code",
   "execution_count": 87,
   "id": "91345987",
   "metadata": {},
   "outputs": [],
   "source": [
    "def merge_gene(parts_dic, merge):\n",
    "\tfinal_dic = {\n",
    "\t\t\"final_shape\": parts_dic['name'],\n",
    "\t\t\"parts\": {}\n",
    "\t}\n",
    "\tfinal_parts = final_dic['parts']\n",
    "\tparts = parts_dic['parts']\n",
    "\tpart_count = 0\n",
    "\tfor part_id in parts:\n",
    "\t\tpart = parts[part_id]\n",
    "\t\tcad_dic, res = component_generate(part['description'])\n",
    "\t\tif not res:\n",
    "\t\t\tcontinue\n",
    "\t\tif merge == \"params\":\n",
    "\t\t\tposition = part['position']\n",
    "\t\t\tcad_dic['coordinate_system']['Translation Vector'] = position\n",
    "\t\tfinal_parts[f'part_{part_count + 1}'] = cad_dic\n",
    "\t\tpart_count += 1\n",
    "\tif merge == \"hand\":\n",
    "\t\t# convert 'to' to list\n",
    "\t\tfor item in parts_dic['positional relationship']:\n",
    "\t\t\titem['to'] = [item['to']]\n",
    "\t\trelative_set(final_dic, parts_dic['positional relationship'])\n",
    "\treturn final_dic"
   ]
  },
  {
   "cell_type": "code",
   "execution_count": 88,
   "id": "e11f4588",
   "metadata": {},
   "outputs": [],
   "source": [
    "def merge_clip(parts_dic, merge):\n",
    "\tfinal_dic = {\n",
    "\t\t\"final_shape\": parts_dic['name'],\n",
    "\t\t\"parts\": {}\n",
    "\t}\n",
    "\tfinal_parts = final_dic['parts']\n",
    "\tparts = parts_dic['parts']\n",
    "\tpart_count = 0\n",
    "\tsub_map = {}\n",
    "\tfor part_id in parts:\n",
    "\t\tpart = parts[part_id]\n",
    "\t\ttop_images, _ = top_images_view(part['description'], 1, False)\n",
    "\t\tuid = top_images[0]['filename'][:8]\n",
    "\t\tfilepath = f\"../../dataset/{uid[:4]}/{uid}/minimal_json/{uid}_merged_vlm.json\"\n",
    "\t\tprint(part['description'], filepath)\n",
    "\t\tpart_dic = load_json(filepath)\n",
    "\t\tif merge == \"params\":\n",
    "\t\t\tposition = part['position']\n",
    "\t\tsub_map[part['id']] = []\n",
    "\t\tfor sub_part_id in part_dic['parts']:\n",
    "\t\t\tsub_part = part_dic['parts'][sub_part_id]\n",
    "\t\t\tif merge == \"params\":\n",
    "\t\t\t\tvec = sub_part['coordinate_system']['Translation Vector']\n",
    "\t\t\t\tvec += position\n",
    "\t\t\tfinal_parts[f'part_{part_count+1}'] = sub_part\n",
    "\t\t\tpart_count += 1\n",
    "\t\t\tsub_map[part['id']].append(part_count)\n",
    "\tif merge == \"hand\":\n",
    "\t\t# convert 'to' to list\n",
    "\t\tfor item in parts_dic['positional relationship']:\n",
    "\t\t\titem['from'] = sub_map[item['from']][0]\n",
    "\t\t\titem['to'] = sub_map[item['to']]\n",
    "\t\trelative_set(final_dic, parts_dic['positional relationship'])\n",
    "\treturn final_dic"
   ]
  },
  {
   "cell_type": "code",
   "execution_count": 89,
   "id": "e1c5c267",
   "metadata": {},
   "outputs": [],
   "source": [
    "def merge_prefabs(parts_dic, merge=\"params\"):\n",
    "\tfinal_dic = {\n",
    "\t\t\"final_shape\": parts_dic['name'],\n",
    "\t\t\"parts\": {}\n",
    "\t}\n",
    "\tfinal_parts = final_dic['parts']\n",
    "\tparts = parts_dic['parts']\n",
    "\tfor part_id in parts:\n",
    "\t\tpart = parts[part_id]\n",
    "\t\tpart_dic = component_prefab(part['type'], part['params'])\n",
    "\t\tif merge == \"params\":\n",
    "\t\t\tposition = part['position']\n",
    "\t\t\tpart_dic['coordinate_system']['Translation Vector'] = position\n",
    "\t\tfinal_parts[part_id] = part_dic\n",
    "\tif merge == \"hand\":\n",
    "\t\t# convert 'to' to list\n",
    "\t\tfor item in parts_dic['positional relationship']:\n",
    "\t\t\titem['to'] = [item['to']]\n",
    "\t\trelative_set(final_dic, parts_dic['positional relationship'])\n",
    "\treturn final_dic"
   ]
  },
  {
   "cell_type": "markdown",
   "id": "c432166f",
   "metadata": {},
   "source": [
    "#### 2.2.4 Whole Process"
   ]
  },
  {
   "cell_type": "code",
   "execution_count": null,
   "id": "72771178",
   "metadata": {},
   "outputs": [],
   "source": [
    "def merge_generate(desire, div=\"clip\", merge=\"params\"):\n",
    "\tif div not in [\"gene\", \"clip\", \"prefabs\"]:\n",
    "\t\tprint(f\"Invalid division method: {div}\")\n",
    "\tif merge not in [\"params\", \"hand\"]:\n",
    "\t\tprint(f\"Invalid merge method: {merge}\")\n",
    "\n",
    "\tif div == \"prefabs\":\n",
    "\t\tparts_dic, res = prefabs_division(desire)\n",
    "\t\tif not res:\n",
    "\t\t\treturn parts_dic, False\n",
    "\t\tfinal_dic = merge_prefabs(parts_dic, merge)\n",
    "\telse:\n",
    "\t\tparts_dic, res = gene_division(desire)\n",
    "\t\tif not res:\n",
    "\t\t\treturn parts_dic, False\n",
    "\t\tif div == \"clip\":\n",
    "\t\t\tfinal_dic = merge_clip(parts_dic, merge)\n",
    "\t\telse:\n",
    "\t\t\tfinal_dic = merge_gene(parts_dic, merge)\n",
    "\n",
    "\tfinal_dic['final_name'] = desire\n",
    "\treturn final_dic, True"
   ]
  },
  {
   "cell_type": "markdown",
   "id": "8e545d4e",
   "metadata": {},
   "source": [
    "## 3. Interact"
   ]
  },
  {
   "cell_type": "code",
   "execution_count": 98,
   "id": "70fd46ef",
   "metadata": {},
   "outputs": [
    {
     "name": "stdout",
     "output_type": "stream",
     "text": [
      "Succeed\n",
      "save to ./inter_result/generate2.json\n"
     ]
    }
   ],
   "source": [
    "desire = \"一根竖直的杆子，由五个同轴不同半径的圆柱体组成，圆柱面上下对齐拼接但相互不相交\"\n",
    "final_dic, res = merge_generate(desire, div=\"prefabs\", merge=\"hand\")\n",
    "if res:\n",
    "    filepath = available_path()\n",
    "    save_json(final_dic, filepath)"
   ]
  }
 ],
 "metadata": {
  "kernelspec": {
   "display_name": "base",
   "language": "python",
   "name": "python3"
  },
  "language_info": {
   "codemirror_mode": {
    "name": "ipython",
    "version": 3
   },
   "file_extension": ".py",
   "mimetype": "text/x-python",
   "name": "python",
   "nbconvert_exporter": "python",
   "pygments_lexer": "ipython3",
   "version": "3.11.5"
  }
 },
 "nbformat": 4,
 "nbformat_minor": 5
}
